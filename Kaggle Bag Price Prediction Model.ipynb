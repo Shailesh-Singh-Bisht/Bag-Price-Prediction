{
 "cells": [
  {
   "cell_type": "code",
   "execution_count": 1,
   "id": "0b40f5f7-b0bb-41b4-a094-d0e08248ecf3",
   "metadata": {},
   "outputs": [
    {
     "name": "stdout",
     "output_type": "stream",
     "text": [
      "Hello\n"
     ]
    }
   ],
   "source": [
    "print(\"Hello\")"
   ]
  },
  {
   "cell_type": "code",
   "execution_count": 2,
   "id": "b20d4e50-d998-40d3-97fa-af62b62e8952",
   "metadata": {},
   "outputs": [],
   "source": [
    "import pandas as pd"
   ]
  },
  {
   "cell_type": "code",
   "execution_count": 3,
   "id": "271dcd27-cda5-4ef6-a893-bcd496b5b9b7",
   "metadata": {},
   "outputs": [],
   "source": [
    "train_df=pd.read_csv(\"train.csv\")"
   ]
  },
  {
   "cell_type": "code",
   "execution_count": 4,
   "id": "ba3f0840-a52d-436e-bc23-c37a9d36353e",
   "metadata": {},
   "outputs": [
    {
     "name": "stdout",
     "output_type": "stream",
     "text": [
      "   id         Brand   Material    Size  Compartments Laptop Compartment  \\\n",
      "0   0      Jansport    Leather  Medium           7.0                Yes   \n",
      "1   1      Jansport     Canvas   Small          10.0                Yes   \n",
      "2   2  Under Armour    Leather   Small           2.0                Yes   \n",
      "3   3          Nike      Nylon   Small           8.0                Yes   \n",
      "4   4        Adidas     Canvas  Medium           1.0                Yes   \n",
      "5   5          Nike     Canvas  Medium          10.0                 No   \n",
      "6   6          Nike        NaN   Large           3.0                 No   \n",
      "7   7          Puma     Canvas   Small           1.0                Yes   \n",
      "8   8  Under Armour  Polyester  Medium           8.0                Yes   \n",
      "9   9  Under Armour      Nylon  Medium           2.0                Yes   \n",
      "\n",
      "  Waterproof      Style  Color  Weight Capacity (kg)      Price  \n",
      "0         No       Tote  Black             11.611723  112.15875  \n",
      "1        Yes  Messenger  Green             27.078537   68.88056  \n",
      "2         No  Messenger    Red             16.643760   39.17320  \n",
      "3         No  Messenger  Green             12.937220   80.60793  \n",
      "4        Yes  Messenger  Green             17.749338   86.02312  \n",
      "5        Yes        NaN  Black              7.241812   20.01553  \n",
      "6         No   Backpack  Green              6.828123   84.80500  \n",
      "7        Yes   Backpack   Blue             21.488864   27.15815  \n",
      "8         No       Tote   Gray             10.207780   25.98652  \n",
      "9        Yes  Messenger   Pink             15.895100   38.48741  \n"
     ]
    }
   ],
   "source": [
    "print(train_df.head(10))"
   ]
  },
  {
   "cell_type": "code",
   "execution_count": 5,
   "id": "de452dbc-b70a-466c-949e-5072732a38a6",
   "metadata": {},
   "outputs": [
    {
     "data": {
      "text/plain": [
       "0              0\n",
       "1              1\n",
       "2              2\n",
       "3              3\n",
       "4              4\n",
       "           ...  \n",
       "299995    299995\n",
       "299996    299996\n",
       "299997    299997\n",
       "299998    299998\n",
       "299999    299999\n",
       "Name: id, Length: 300000, dtype: int64"
      ]
     },
     "metadata": {},
     "output_type": "display_data"
    }
   ],
   "source": [
    "from IPython.display import display\n",
    "Id_df = train_df['id'].copy()\n",
    "\n",
    "display(Id_df)"
   ]
  },
  {
   "cell_type": "code",
   "execution_count": 6,
   "id": "d1c3bab1-53df-4e6c-956c-b129d1bb1915",
   "metadata": {},
   "outputs": [],
   "source": [
    "train_df.drop(columns=['id'],inplace=True)"
   ]
  },
  {
   "cell_type": "code",
   "execution_count": 7,
   "id": "95ab239b-0efa-4f4d-9878-7c937a88afd7",
   "metadata": {},
   "outputs": [
    {
     "name": "stdout",
     "output_type": "stream",
     "text": [
      "          Brand   Material    Size  Compartments Laptop Compartment  \\\n",
      "0      Jansport    Leather  Medium           7.0                Yes   \n",
      "1      Jansport     Canvas   Small          10.0                Yes   \n",
      "2  Under Armour    Leather   Small           2.0                Yes   \n",
      "3          Nike      Nylon   Small           8.0                Yes   \n",
      "4        Adidas     Canvas  Medium           1.0                Yes   \n",
      "5          Nike     Canvas  Medium          10.0                 No   \n",
      "6          Nike        NaN   Large           3.0                 No   \n",
      "7          Puma     Canvas   Small           1.0                Yes   \n",
      "8  Under Armour  Polyester  Medium           8.0                Yes   \n",
      "9  Under Armour      Nylon  Medium           2.0                Yes   \n",
      "\n",
      "  Waterproof      Style  Color  Weight Capacity (kg)      Price  \n",
      "0         No       Tote  Black             11.611723  112.15875  \n",
      "1        Yes  Messenger  Green             27.078537   68.88056  \n",
      "2         No  Messenger    Red             16.643760   39.17320  \n",
      "3         No  Messenger  Green             12.937220   80.60793  \n",
      "4        Yes  Messenger  Green             17.749338   86.02312  \n",
      "5        Yes        NaN  Black              7.241812   20.01553  \n",
      "6         No   Backpack  Green              6.828123   84.80500  \n",
      "7        Yes   Backpack   Blue             21.488864   27.15815  \n",
      "8         No       Tote   Gray             10.207780   25.98652  \n",
      "9        Yes  Messenger   Pink             15.895100   38.48741  \n"
     ]
    }
   ],
   "source": [
    "print(train_df.head(10))"
   ]
  },
  {
   "cell_type": "code",
   "execution_count": 8,
   "id": "2e9851ce-00af-4bc2-8cba-b58655ebca00",
   "metadata": {},
   "outputs": [
    {
     "name": "stdout",
     "output_type": "stream",
     "text": [
      "Brand                   9705\n",
      "Material                8347\n",
      "Size                    6595\n",
      "Compartments               0\n",
      "Laptop Compartment      7444\n",
      "Waterproof              7050\n",
      "Style                   7970\n",
      "Color                   9950\n",
      "Weight Capacity (kg)     138\n",
      "Price                      0\n",
      "dtype: int64\n"
     ]
    }
   ],
   "source": [
    "print(train_df.isnull().sum()) "
   ]
  },
  {
   "cell_type": "code",
   "execution_count": 9,
   "id": "7d732d4d-f5e5-4353-a281-bd16ac6cdd12",
   "metadata": {},
   "outputs": [],
   "source": [
    "train_df[\"Brand\"] = train_df[\"Brand\"].fillna(train_df[\"Brand\"].mode()[0])\n",
    "train_df[\"Material\"] = train_df[\"Material\"].fillna(train_df[\"Material\"].mode()[0])\n",
    "train_df[\"Size\"] = train_df[\"Size\"].fillna(train_df[\"Size\"].mode()[0])\n",
    "train_df[\"Laptop Compartment\"] = train_df[\"Laptop Compartment\"].fillna(train_df[\"Laptop Compartment\"].mode()[0])\n",
    "train_df[\"Waterproof\"] = train_df[\"Waterproof\"].fillna(train_df[\"Waterproof\"].mode()[0])\n",
    "train_df[\"Style\"] = train_df[\"Style\"].fillna(train_df[\"Style\"].mode()[0])\n",
    "train_df[\"Color\"] = train_df[\"Color\"].fillna(train_df[\"Color\"].mode()[0])\n",
    "train_df[\"Weight Capacity (kg)\"] = train_df[\"Weight Capacity (kg)\"].fillna(train_df[\"Weight Capacity (kg)\"].mean())"
   ]
  },
  {
   "cell_type": "code",
   "execution_count": 10,
   "id": "13b44a00-1631-4359-b9d1-0186c6e1361c",
   "metadata": {},
   "outputs": [
    {
     "name": "stdout",
     "output_type": "stream",
     "text": [
      "Brand                   0\n",
      "Material                0\n",
      "Size                    0\n",
      "Compartments            0\n",
      "Laptop Compartment      0\n",
      "Waterproof              0\n",
      "Style                   0\n",
      "Color                   0\n",
      "Weight Capacity (kg)    0\n",
      "Price                   0\n",
      "dtype: int64\n"
     ]
    }
   ],
   "source": [
    "print(train_df.isnull().sum()) "
   ]
  },
  {
   "cell_type": "code",
   "execution_count": 11,
   "id": "d586d209-6b9a-4bbd-bd05-2f57693204b7",
   "metadata": {},
   "outputs": [],
   "source": [
    "train_df.to_csv(\"Fixed_Train_data.csv\", index=False) "
   ]
  },
  {
   "cell_type": "code",
   "execution_count": 12,
   "id": "4fde9aae-8a1b-4f86-9ff5-84687bf318f1",
   "metadata": {},
   "outputs": [
    {
     "name": "stdout",
     "output_type": "stream",
     "text": [
      "            id         Brand   Material    Size  Compartments  \\\n",
      "0       300000          Puma    Leather   Small           2.0   \n",
      "1       300001          Nike     Canvas  Medium           7.0   \n",
      "2       300002        Adidas     Canvas   Large           9.0   \n",
      "3       300003        Adidas      Nylon   Large           1.0   \n",
      "4       300004           NaN      Nylon   Large           2.0   \n",
      "...        ...           ...        ...     ...           ...   \n",
      "199995  499995        Adidas     Canvas   Large           2.0   \n",
      "199996  499996          Nike  Polyester   Small           9.0   \n",
      "199997  499997      Jansport      Nylon   Small           9.0   \n",
      "199998  499998          Puma      Nylon   Large          10.0   \n",
      "199999  499999  Under Armour    Leather  Medium           8.0   \n",
      "\n",
      "       Laptop Compartment Waterproof      Style  Color  Weight Capacity (kg)  \n",
      "0                      No         No       Tote  Green             20.671147  \n",
      "1                      No        Yes   Backpack  Green             13.564105  \n",
      "2                      No        Yes  Messenger   Blue             11.809799  \n",
      "3                     Yes         No  Messenger  Green             18.477036  \n",
      "4                     Yes        Yes       Tote  Black              9.907953  \n",
      "...                   ...        ...        ...    ...                   ...  \n",
      "199995                Yes         No  Messenger    Red              7.383498  \n",
      "199996                 No        Yes  Messenger   Pink              6.058394  \n",
      "199997                 No        Yes       Tote  Green             26.890163  \n",
      "199998                Yes         No       Tote   Gray             25.769153  \n",
      "199999                Yes        Yes  Messenger   Pink             29.175026  \n",
      "\n",
      "[200000 rows x 10 columns]\n"
     ]
    }
   ],
   "source": [
    "test_df = pd.read_csv(\"test.csv\")\n",
    "print(test_df)"
   ]
  },
  {
   "cell_type": "code",
   "execution_count": 13,
   "id": "c877a613-73f5-49c0-abf5-8081c98ee753",
   "metadata": {},
   "outputs": [
    {
     "name": "stdout",
     "output_type": "stream",
     "text": [
      "               Brand   Material    Size  Compartments Laptop Compartment  \\\n",
      "0               Puma    Leather   Small           2.0                 No   \n",
      "1               Nike     Canvas  Medium           7.0                 No   \n",
      "2             Adidas     Canvas   Large           9.0                 No   \n",
      "3             Adidas      Nylon   Large           1.0                Yes   \n",
      "4                NaN      Nylon   Large           2.0                Yes   \n",
      "...              ...        ...     ...           ...                ...   \n",
      "199995        Adidas     Canvas   Large           2.0                Yes   \n",
      "199996          Nike  Polyester   Small           9.0                 No   \n",
      "199997      Jansport      Nylon   Small           9.0                 No   \n",
      "199998          Puma      Nylon   Large          10.0                Yes   \n",
      "199999  Under Armour    Leather  Medium           8.0                Yes   \n",
      "\n",
      "       Waterproof      Style  Color  Weight Capacity (kg)  \n",
      "0              No       Tote  Green             20.671147  \n",
      "1             Yes   Backpack  Green             13.564105  \n",
      "2             Yes  Messenger   Blue             11.809799  \n",
      "3              No  Messenger  Green             18.477036  \n",
      "4             Yes       Tote  Black              9.907953  \n",
      "...           ...        ...    ...                   ...  \n",
      "199995         No  Messenger    Red              7.383498  \n",
      "199996        Yes  Messenger   Pink              6.058394  \n",
      "199997        Yes       Tote  Green             26.890163  \n",
      "199998         No       Tote   Gray             25.769153  \n",
      "199999        Yes  Messenger   Pink             29.175026  \n",
      "\n",
      "[200000 rows x 9 columns]\n"
     ]
    }
   ],
   "source": [
    "test_df.drop(columns=['id'],inplace=True)\n",
    "print(test_df)"
   ]
  },
  {
   "cell_type": "code",
   "execution_count": 14,
   "id": "9295b583-de7c-40c3-a725-3ace86798146",
   "metadata": {},
   "outputs": [
    {
     "name": "stdout",
     "output_type": "stream",
     "text": [
      "Brand                   6227\n",
      "Material                5613\n",
      "Size                    4381\n",
      "Compartments               0\n",
      "Laptop Compartment      4962\n",
      "Waterproof              4811\n",
      "Style                   5153\n",
      "Color                   6785\n",
      "Weight Capacity (kg)      77\n",
      "dtype: int64\n"
     ]
    }
   ],
   "source": [
    "print(test_df.isnull().sum()) "
   ]
  },
  {
   "cell_type": "code",
   "execution_count": 15,
   "id": "ae2e342c-93e0-406e-825c-b5f6c223d300",
   "metadata": {},
   "outputs": [],
   "source": [
    "test_df[\"Brand\"] = test_df[\"Brand\"].fillna(test_df[\"Brand\"].mode()[0])\n",
    "test_df[\"Material\"] = test_df[\"Material\"].fillna(test_df[\"Material\"].mode()[0])\n",
    "test_df[\"Size\"] = test_df[\"Size\"].fillna(test_df[\"Size\"].mode()[0])\n",
    "test_df[\"Laptop Compartment\"] = test_df[\"Laptop Compartment\"].fillna(test_df[\"Laptop Compartment\"].mode()[0])\n",
    "test_df[\"Waterproof\"] = test_df[\"Waterproof\"].fillna(test_df[\"Waterproof\"].mode()[0])\n",
    "test_df[\"Style\"] = test_df[\"Style\"].fillna(test_df[\"Style\"].mode()[0])\n",
    "test_df[\"Color\"] = test_df[\"Color\"].fillna(test_df[\"Color\"].mode()[0])\n",
    "test_df[\"Weight Capacity (kg)\"] = test_df[\"Weight Capacity (kg)\"].fillna(test_df[\"Weight Capacity (kg)\"].mean())"
   ]
  },
  {
   "cell_type": "code",
   "execution_count": 16,
   "id": "86d45d08-de78-469e-a2a1-1560382297e4",
   "metadata": {},
   "outputs": [
    {
     "name": "stdout",
     "output_type": "stream",
     "text": [
      "Brand                   0\n",
      "Material                0\n",
      "Size                    0\n",
      "Compartments            0\n",
      "Laptop Compartment      0\n",
      "Waterproof              0\n",
      "Style                   0\n",
      "Color                   0\n",
      "Weight Capacity (kg)    0\n",
      "dtype: int64\n"
     ]
    }
   ],
   "source": [
    "print(test_df.isnull().sum()) "
   ]
  },
  {
   "cell_type": "code",
   "execution_count": 17,
   "id": "8b932118-ec3e-4cb0-99d0-4a6196ff67ba",
   "metadata": {},
   "outputs": [],
   "source": [
    "from sklearn.preprocessing import LabelEncoder"
   ]
  },
  {
   "cell_type": "code",
   "execution_count": 18,
   "id": "a28db51a-6be9-43c8-b300-4f37b7490fd2",
   "metadata": {},
   "outputs": [],
   "source": [
    "def encoder(df, column, method=\"label\"):\n",
    "    df_encoded = df.copy()\n",
    "\n",
    "    if column not in df_encoded.columns:\n",
    "        raise ValueError(f\"There is no '{column}' in the dataframe\")\n",
    "\n",
    "    if df_encoded[column].dtype == \"object\":\n",
    "        if method == \"label\":\n",
    "            le = LabelEncoder()\n",
    "            df_encoded[column] = le.fit_transform(df_encoded[column])\n",
    "        elif method == \"onehot\":\n",
    "            df_encoded = pd.get_dummies(df_encoded, columns=[column], drop_first=True)\n",
    "        else:\n",
    "            raise ValueError(\"Invalid method. Use 'label' or 'onehot'.\")\n",
    "    \n",
    "    elif df_encoded[column].nunique() == 2:\n",
    "        unique_values = list(df_encoded[column].unique())\n",
    "        mapping = {unique_values[0]: 0, unique_values[1]: 1}\n",
    "        df_encoded[column] = df_encoded[column].map(mapping).astype(int)\n",
    "\n",
    "    return df_encoded"
   ]
  },
  {
   "cell_type": "code",
   "execution_count": 19,
   "id": "42235610-32b5-47a7-9f9d-b705474fa4e7",
   "metadata": {},
   "outputs": [],
   "source": [
    "train_df = encoder(train_df, column=\"Brand\", method=\"label\")"
   ]
  },
  {
   "cell_type": "code",
   "execution_count": 20,
   "id": "c108b69e-6521-416c-867b-fc4ca1754a40",
   "metadata": {},
   "outputs": [
    {
     "name": "stdout",
     "output_type": "stream",
     "text": [
      "   Brand   Material    Size  Compartments Laptop Compartment Waterproof  \\\n",
      "0      1    Leather  Medium           7.0                Yes         No   \n",
      "1      1     Canvas   Small          10.0                Yes        Yes   \n",
      "2      4    Leather   Small           2.0                Yes         No   \n",
      "3      2      Nylon   Small           8.0                Yes         No   \n",
      "4      0     Canvas  Medium           1.0                Yes        Yes   \n",
      "5      2     Canvas  Medium          10.0                 No        Yes   \n",
      "6      2  Polyester   Large           3.0                 No         No   \n",
      "7      3     Canvas   Small           1.0                Yes        Yes   \n",
      "8      4  Polyester  Medium           8.0                Yes         No   \n",
      "9      4      Nylon  Medium           2.0                Yes        Yes   \n",
      "\n",
      "       Style  Color  Weight Capacity (kg)      Price  \n",
      "0       Tote  Black             11.611723  112.15875  \n",
      "1  Messenger  Green             27.078537   68.88056  \n",
      "2  Messenger    Red             16.643760   39.17320  \n",
      "3  Messenger  Green             12.937220   80.60793  \n",
      "4  Messenger  Green             17.749338   86.02312  \n",
      "5  Messenger  Black              7.241812   20.01553  \n",
      "6   Backpack  Green              6.828123   84.80500  \n",
      "7   Backpack   Blue             21.488864   27.15815  \n",
      "8       Tote   Gray             10.207780   25.98652  \n",
      "9  Messenger   Pink             15.895100   38.48741  \n"
     ]
    }
   ],
   "source": [
    "print(train_df.head(10))"
   ]
  },
  {
   "cell_type": "code",
   "execution_count": 21,
   "id": "84b4800a-693c-465b-8a69-d652cc38260a",
   "metadata": {},
   "outputs": [],
   "source": [
    "train_df = encoder(train_df, column=\"Material\", method=\"label\")\n",
    "train_df = encoder(train_df, column=\"Size\", method=\"label\")\n",
    "train_df = encoder(train_df, column=\"Laptop Compartment\")\n",
    "train_df = encoder(train_df, column=\"Waterproof\")\n",
    "train_df = encoder(train_df, column=\"Style\", method=\"label\")\n",
    "train_df = encoder(train_df, column=\"Color\", method=\"label\")"
   ]
  },
  {
   "cell_type": "code",
   "execution_count": 22,
   "id": "e271207d-f242-4b23-98bb-41c11412bc30",
   "metadata": {},
   "outputs": [
    {
     "name": "stdout",
     "output_type": "stream",
     "text": [
      "   Brand  Material  Size  Compartments  Laptop Compartment  Waterproof  Style  \\\n",
      "0      1         1     1           7.0                   1           0      2   \n",
      "1      1         0     2          10.0                   1           1      1   \n",
      "2      4         1     2           2.0                   1           0      1   \n",
      "3      2         2     2           8.0                   1           0      1   \n",
      "4      0         0     1           1.0                   1           1      1   \n",
      "5      2         0     1          10.0                   0           1      1   \n",
      "6      2         3     0           3.0                   0           0      0   \n",
      "7      3         0     2           1.0                   1           1      0   \n",
      "8      4         3     1           8.0                   1           0      2   \n",
      "9      4         2     1           2.0                   1           1      1   \n",
      "\n",
      "   Color  Weight Capacity (kg)      Price  \n",
      "0      0             11.611723  112.15875  \n",
      "1      3             27.078537   68.88056  \n",
      "2      5             16.643760   39.17320  \n",
      "3      3             12.937220   80.60793  \n",
      "4      3             17.749338   86.02312  \n",
      "5      0              7.241812   20.01553  \n",
      "6      3              6.828123   84.80500  \n",
      "7      1             21.488864   27.15815  \n",
      "8      2             10.207780   25.98652  \n",
      "9      4             15.895100   38.48741  \n"
     ]
    }
   ],
   "source": [
    "print(train_df.head(10))"
   ]
  },
  {
   "cell_type": "code",
   "execution_count": 23,
   "id": "fd7cf2fd-7c33-4d15-9149-6adda310bba5",
   "metadata": {},
   "outputs": [],
   "source": [
    "test_df = encoder(test_df, column=\"Brand\", method=\"label\")"
   ]
  },
  {
   "cell_type": "code",
   "execution_count": 24,
   "id": "8cad9ec7-39a5-4872-8a86-01cef09696db",
   "metadata": {},
   "outputs": [],
   "source": [
    "test_df = encoder(test_df, column=\"Material\", method=\"label\")\n",
    "test_df = encoder(test_df, column=\"Size\", method=\"label\")\n",
    "test_df = encoder(test_df, column=\"Laptop Compartment\")\n",
    "test_df = encoder(test_df, column=\"Waterproof\")\n",
    "test_df = encoder(test_df, column=\"Style\", method=\"label\")\n",
    "test_df = encoder(test_df, column=\"Color\", method=\"label\")"
   ]
  },
  {
   "cell_type": "code",
   "execution_count": 25,
   "id": "6267db53-581a-460a-a7bc-bb487295cbec",
   "metadata": {},
   "outputs": [
    {
     "name": "stdout",
     "output_type": "stream",
     "text": [
      "   Brand  Material  Size  Compartments  Laptop Compartment  Waterproof  Style  \\\n",
      "0      3         1     2           2.0                   0           0      2   \n",
      "1      2         0     1           7.0                   0           1      0   \n",
      "2      0         0     0           9.0                   0           1      1   \n",
      "3      0         2     0           1.0                   1           0      1   \n",
      "4      0         2     0           2.0                   1           1      2   \n",
      "5      4         2     1           8.0                   0           0      0   \n",
      "6      2         2     0           8.0                   0           1      2   \n",
      "7      1         3     1           6.0                   1           0      0   \n",
      "8      2         0     0           8.0                   1           1      0   \n",
      "9      3         1     0           1.0                   0           0      2   \n",
      "\n",
      "   Color  Weight Capacity (kg)  \n",
      "0      3             20.671147  \n",
      "1      3             13.564105  \n",
      "2      1             11.809799  \n",
      "3      3             18.477036  \n",
      "4      0              9.907953  \n",
      "5      0             17.547673  \n",
      "6      1             16.003025  \n",
      "7      1             24.238091  \n",
      "8      5             19.181167  \n",
      "9      1              9.937962  \n"
     ]
    }
   ],
   "source": [
    "print(test_df.head(10))"
   ]
  },
  {
   "cell_type": "code",
   "execution_count": 26,
   "id": "088720bb-f950-4a68-95fa-b1b0bd745484",
   "metadata": {},
   "outputs": [],
   "source": [
    "train_df.to_csv(\"Fixed_Train_data.csv\", index=False) \n",
    "test_df.to_csv(\"Fixed_Test_data.csv\",index=False)"
   ]
  },
  {
   "cell_type": "code",
   "execution_count": 27,
   "id": "02d4cca7-e558-4924-a36d-903a353ad22f",
   "metadata": {},
   "outputs": [
    {
     "name": "stdout",
     "output_type": "stream",
     "text": [
      "   Brand  Material  Size  Compartments  Laptop Compartment  Waterproof  Style  \\\n",
      "0      1         1     1           7.0                   1           0      2   \n",
      "1      1         0     2          10.0                   1           1      1   \n",
      "2      4         1     2           2.0                   1           0      1   \n",
      "3      2         2     2           8.0                   1           0      1   \n",
      "4      0         0     1           1.0                   1           1      1   \n",
      "\n",
      "   Color  Weight Capacity (kg)      Price  \n",
      "0      0             11.611723  112.15875  \n",
      "1      3             27.078537   68.88056  \n",
      "2      5             16.643760   39.17320  \n",
      "3      3             12.937220   80.60793  \n",
      "4      3             17.749338   86.02312  \n",
      "   Brand  Material  Size  Compartments  Laptop Compartment  Waterproof  Style  \\\n",
      "0      3         1     2           2.0                   0           0      2   \n",
      "1      2         0     1           7.0                   0           1      0   \n",
      "2      0         0     0           9.0                   0           1      1   \n",
      "3      0         2     0           1.0                   1           0      1   \n",
      "4      0         2     0           2.0                   1           1      2   \n",
      "\n",
      "   Color  Weight Capacity (kg)  \n",
      "0      3             20.671147  \n",
      "1      3             13.564105  \n",
      "2      1             11.809799  \n",
      "3      3             18.477036  \n",
      "4      0              9.907953  \n"
     ]
    }
   ],
   "source": [
    "print(train_df.head(5))\n",
    "print(test_df.head(5))"
   ]
  },
  {
   "cell_type": "code",
   "execution_count": 28,
   "id": "966fc05a-893d-4f87-be47-4039f4301d5e",
   "metadata": {},
   "outputs": [],
   "source": [
    "X=train_df.drop(columns=['Price'])\n",
    "y=train_df['Price']"
   ]
  },
  {
   "cell_type": "code",
   "execution_count": 29,
   "id": "4a216006-f215-440b-909b-2088f86d912f",
   "metadata": {},
   "outputs": [
    {
     "name": "stdout",
     "output_type": "stream",
     "text": [
      "        Brand  Material  Size  Compartments  Laptop Compartment  Waterproof  \\\n",
      "0           1         1     1           7.0                   1           0   \n",
      "1           1         0     2          10.0                   1           1   \n",
      "2           4         1     2           2.0                   1           0   \n",
      "3           2         2     2           8.0                   1           0   \n",
      "4           0         0     1           1.0                   1           1   \n",
      "...       ...       ...   ...           ...                 ...         ...   \n",
      "299995      0         1     2           9.0                   0           0   \n",
      "299996      1         1     0           6.0                   0           1   \n",
      "299997      3         0     0           9.0                   1           1   \n",
      "299998      0         2     2           1.0                   0           1   \n",
      "299999      4         0     2           2.0                   0           1   \n",
      "\n",
      "        Style  Color  Weight Capacity (kg)  \n",
      "0           2      0             11.611723  \n",
      "1           1      3             27.078537  \n",
      "2           1      5             16.643760  \n",
      "3           1      3             12.937220  \n",
      "4           1      3             17.749338  \n",
      "...       ...    ...                   ...  \n",
      "299995      2      1             12.730812  \n",
      "299996      2      1             26.633182  \n",
      "299997      0      4             11.898250  \n",
      "299998      2      4              6.175738  \n",
      "299999      0      0             18.568865  \n",
      "\n",
      "[300000 rows x 9 columns]\n",
      "0         112.15875\n",
      "1          68.88056\n",
      "2          39.17320\n",
      "3          80.60793\n",
      "4          86.02312\n",
      "            ...    \n",
      "299995    129.99749\n",
      "299996     19.85819\n",
      "299997    111.41364\n",
      "299998    115.89080\n",
      "299999     26.72762\n",
      "Name: Price, Length: 300000, dtype: float64\n"
     ]
    }
   ],
   "source": [
    "print(X)\n",
    "print(y)"
   ]
  },
  {
   "cell_type": "code",
   "execution_count": 30,
   "id": "5699d725-aa74-42b0-b686-3d185df16a91",
   "metadata": {},
   "outputs": [],
   "source": [
    "X_test=test_df"
   ]
  },
  {
   "cell_type": "code",
   "execution_count": 31,
   "id": "8baa0949-5707-4258-abd6-c15fa05e2847",
   "metadata": {},
   "outputs": [
    {
     "name": "stdout",
     "output_type": "stream",
     "text": [
      "        Brand  Material  Size  Compartments  Laptop Compartment  Waterproof  \\\n",
      "0           3         1     2           2.0                   0           0   \n",
      "1           2         0     1           7.0                   0           1   \n",
      "2           0         0     0           9.0                   0           1   \n",
      "3           0         2     0           1.0                   1           0   \n",
      "4           0         2     0           2.0                   1           1   \n",
      "...       ...       ...   ...           ...                 ...         ...   \n",
      "199995      0         0     0           2.0                   1           0   \n",
      "199996      2         3     2           9.0                   0           1   \n",
      "199997      1         2     2           9.0                   0           1   \n",
      "199998      3         2     0          10.0                   1           0   \n",
      "199999      4         1     1           8.0                   1           1   \n",
      "\n",
      "        Style  Color  Weight Capacity (kg)  \n",
      "0           2      3             20.671147  \n",
      "1           0      3             13.564105  \n",
      "2           1      1             11.809799  \n",
      "3           1      3             18.477036  \n",
      "4           2      0              9.907953  \n",
      "...       ...    ...                   ...  \n",
      "199995      1      5              7.383498  \n",
      "199996      1      4              6.058394  \n",
      "199997      2      3             26.890163  \n",
      "199998      2      2             25.769153  \n",
      "199999      1      4             29.175026  \n",
      "\n",
      "[200000 rows x 9 columns]\n"
     ]
    }
   ],
   "source": [
    "print(X_test)"
   ]
  },
  {
   "cell_type": "code",
   "execution_count": 32,
   "id": "29fffcbf-c9a8-4f1b-b054-e76a34d10462",
   "metadata": {},
   "outputs": [
    {
     "name": "stdout",
     "output_type": "stream",
     "text": [
      "Train Features Shape: (300000, 9)\n",
      "Test Features Shape: (200000, 9)\n"
     ]
    }
   ],
   "source": [
    "print(\"Train Features Shape:\", X.shape)\n",
    "print(\"Test Features Shape:\", X_test.shape)"
   ]
  },
  {
   "cell_type": "code",
   "execution_count": 33,
   "id": "27ad7aa1-66d8-4062-bd9c-0e3a3c208659",
   "metadata": {},
   "outputs": [],
   "source": [
    "import matplotlib.pyplot as plt\n",
    "import seaborn as sns"
   ]
  },
  {
   "cell_type": "code",
   "execution_count": 35,
   "id": "3ccc1354-4ced-4533-befc-7448a7ea27aa",
   "metadata": {},
   "outputs": [
    {
     "data": {
      "image/png": "[encoded data removed]",
      "text/plain": [
       "<Figure size 640x480 with 1 Axes>"
      ]
     },
     "metadata": {},
     "output_type": "display_data"
    }
   ],
   "source": [
    "sns.histplot(y,bins=50,kde=True)\n",
    "plt.xlabel(\"Price\")\n",
    "plt.ylabel(\"Count\")\n",
    "plt.title(\"Price Distribution\")\n",
    "plt.show()"
   ]
  },
  {
   "cell_type": "code",
   "execution_count": 36,
   "id": "1309a4cf-4899-4b72-9172-02c66700ef7f",
   "metadata": {},
   "outputs": [],
   "source": [
    "from sklearn.model_selection import train_test_split"
   ]
  },
  {
   "cell_type": "code",
   "execution_count": 37,
   "id": "dd2a224e-e49c-4c28-9940-e9e4be4848b2",
   "metadata": {},
   "outputs": [],
   "source": [
    "X_train, X_val, y_train, y_val = train_test_split(X, y, test_size=0.2, random_state=42)"
   ]
  },
  {
   "cell_type": "code",
   "execution_count": 48,
   "id": "0906e508-1215-48c4-b1d4-0792333386b1",
   "metadata": {},
   "outputs": [],
   "source": [
    "from sklearn.ensemble import RandomForestRegressor\n",
    "from sklearn.metrics import mean_absolute_error, r2_score"
   ]
  },
  {
   "cell_type": "code",
   "execution_count": 52,
   "id": "c2c20032-10bd-427e-9439-e593dae8ecd5",
   "metadata": {},
   "outputs": [
    {
     "name": "stdout",
     "output_type": "stream",
     "text": [
      "Training MAE: 28.671031513753938\n",
      "Validation MAE: 33.731893199438026\n",
      "Training R²: 0.2709308467492695\n",
      "Validation R²: -0.007144037996610564\n"
     ]
    }
   ],
   "source": [
    "model = RandomForestRegressor(n_estimators=500, max_depth=20, random_state=42, n_jobs=-1)\n",
    "\n",
    "model.fit(X_train, y_train)\n",
    "\n",
    "y_train_pred = model.predict(X_train)\n",
    "y_val_pred = model.predict(X_val)\n",
    "\n",
    "train_mae = mean_absolute_error(y_train, y_train_pred)\n",
    "val_mae = mean_absolute_error(y_val, y_val_pred)\n",
    "train_r2 = r2_score(y_train, y_train_pred)\n",
    "val_r2 = r2_score(y_val, y_val_pred)\n",
    "\n",
    "print(f\"Training MAE: {train_mae}\")\n",
    "print(f\"Validation MAE: {val_mae}\")\n",
    "print(f\"Training R²: {train_r2}\")\n",
    "print(f\"Validation R²: {val_r2}\")\n"
   ]
  },
  {
   "cell_type": "code",
   "execution_count": 54,
   "id": "be58b1ac-e764-4c23-8112-944b7d3c83ad",
   "metadata": {},
   "outputs": [
    {
     "name": "stdout",
     "output_type": "stream",
     "text": [
      "300000\n",
      "200000\n"
     ]
    }
   ],
   "source": [
    "print(len(Id_df))       # Should be 200,000 (same as test set)\n",
    "print(len(y_test_pred)) # Should be 200,000\n"
   ]
  },
  {
   "cell_type": "code",
   "execution_count": 57,
   "id": "329ce459-52ec-4269-8b8f-f7941cbec03c",
   "metadata": {},
   "outputs": [
    {
     "name": "stdout",
     "output_type": "stream",
     "text": [
      "✅ Submission file saved as 'submission.csv'!\n"
     ]
    }
   ],
   "source": [
    "y_test_pred = model.predict(X_test)\n",
    "\n",
    "test_ids = pd.read_csv(\"test.csv\")[\"id\"]  # Load test IDs from original test.csv\n",
    "\n",
    "submission_df = pd.DataFrame({\n",
    "    \"id\": test_ids,  \n",
    "    \"Predicted Price\": y_test_pred\n",
    "})\n",
    "\n",
    "submission_df.to_csv(\"submission.csv\", index=False)\n",
    "\n",
    "print(\"✅ Submission file saved as 'submission.csv'!\")\n"
   ]
  }
 ],
 "metadata": {
  "kernelspec": {
   "display_name": "Python 3 (ipykernel)",
   "language": "python",
   "name": "python3"
  },
  "language_info": {
   "codemirror_mode": {
    "name": "ipython",
    "version": 3
   },
   "file_extension": ".py",
   "mimetype": "text/x-python",
   "name": "python",
   "nbconvert_exporter": "python",
   "pygments_lexer": "ipython3",
   "version": "3.12.7"
  }
 },
 "nbformat": 4,
 "nbformat_minor": 5
}
